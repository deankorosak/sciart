{
 "cells": [
  {
   "cell_type": "code",
   "execution_count": 1,
   "id": "8807f9e6-d09a-409a-ad54-a6546fd3875e",
   "metadata": {},
   "outputs": [],
   "source": [
    "import urllib, json\n",
    "from urllib.request import urlopen\n",
    "import numpy as np\n",
    "from io import open\n",
    "import ast\n",
    "import time\n",
    "import requests\n",
    "import pandas as pd"
   ]
  },
  {
   "cell_type": "code",
   "execution_count": null,
   "id": "ecdb2a51",
   "metadata": {},
   "outputs": [],
   "source": [
    "#fields = pd.read_excel(\"arrs_klasifikacija.xlsx\",sheet_name=\"področja\",header=None,dtype=str)\n",
    "#kys = ('employs','cit','classificationFrascati','evaluation',\"programs\")\n",
    "#kys = ('employs','cit','classificationFrascati','evaluation')\n",
    "#pids = np.load(\"pids.npy\")\n",
    "#vede = pd.read_excel(\"arrs_klasifikacija.xlsx\",sheet_name=\"vede\",header=None,dtype=str)"
   ]
  },
  {
   "cell_type": "code",
   "execution_count": null,
   "id": "f6c85bf6",
   "metadata": {},
   "outputs": [],
   "source": [
    "#### REST API credentials and set-up ####"
   ]
  },
  {
   "cell_type": "code",
   "execution_count": null,
   "id": "9cdd9226",
   "metadata": {},
   "outputs": [],
   "source": [
    "# credentials\n",
    "username = ''\n",
    "password = ''"
   ]
  },
  {
   "cell_type": "code",
   "execution_count": null,
   "id": "c1460fea-0397-4dbf-81ea-e80f5814745e",
   "metadata": {},
   "outputs": [
    {
     "name": "stdout",
     "output_type": "stream",
     "text": [
      "<Response [200]>\n"
     ]
    }
   ],
   "source": [
    "r = requests.post(\"https://cris.cobiss.net/ecris/si/sl/service/getjwt\", json={\"username\": username, \"password\": password})\n",
    "print(r)"
   ]
  },
  {
   "cell_type": "code",
   "execution_count": 3,
   "id": "63854d69-c6a8-44b1-9c3e-eed8fbf2c355",
   "metadata": {},
   "outputs": [],
   "source": [
    "token = json.loads(r.text)[\"jwt\"]"
   ]
  },
  {
   "cell_type": "code",
   "execution_count": 5,
   "id": "ad9514ae",
   "metadata": {},
   "outputs": [],
   "source": [
    "url = \"https://cris.cobiss.net/ecris/si/sl/service/researcher/search?query=*&limit=ALL\"\n",
    "headers = {'Authorization': token}\n",
    "\n",
    "r = requests.get(url, headers=headers)\n",
    "\n",
    "res = json.loads(r.text)"
   ]
  },
  {
   "cell_type": "code",
   "execution_count": 7,
   "id": "f213b14a",
   "metadata": {},
   "outputs": [],
   "source": [
    "ids = []\n",
    "for i in res:\n",
    "    ids.append(i[\"id\"])"
   ]
  },
  {
   "cell_type": "code",
   "execution_count": 9,
   "id": "b65709d5",
   "metadata": {},
   "outputs": [],
   "source": [
    "np.save(\"sicris_ids_april_2025.npy\",ids)"
   ]
  },
  {
   "cell_type": "code",
   "execution_count": 26,
   "id": "338a0968",
   "metadata": {},
   "outputs": [],
   "source": [
    "url = \"https://cris.cobiss.net/ecris/si/sl/service/researcher/\" + str(res[12000][\"id\"])\n",
    "headers = {'Authorization': token}\n",
    "r = requests.get(url, headers=headers)\n",
    "resID = json.loads(r.text)"
   ]
  },
  {
   "cell_type": "code",
   "execution_count": 27,
   "id": "0e26186a",
   "metadata": {},
   "outputs": [
    {
     "data": {
      "text/plain": [
       "dict_keys(['accessMapWithIconData', 'accessRights', 'allow', 'audiovisualSources', 'biblioRepresent', 'cit', 'classificationCerif', 'classificationFord', 'classificationFrascati', 'contact', 'educations', 'employs', 'evaluation', 'firstName', 'frame', 'fullName', 'hasTender', 'id', 'internacionalprojects', 'isLeader', 'langSkills', 'lastName', 'mstid', 'previousEmployments', 'programmesAndProjectsResults', 'programs', 'projects', 'researcher', 'rolecode', 'rsrttl', 'sex', 'stat', 'statadm', 'statdate', 'title', 'type', 'yngResearchers'])"
      ]
     },
     "execution_count": 27,
     "metadata": {},
     "output_type": "execute_result"
    }
   ],
   "source": [
    "resID.keys()"
   ]
  },
  {
   "cell_type": "code",
   "execution_count": 31,
   "id": "d9fecb80",
   "metadata": {},
   "outputs": [
    {
     "name": "stdout",
     "output_type": "stream",
     "text": [
      "error 2989\n",
      "error 13564\n",
      "error 18699\n",
      "error 20491\n",
      "error 37181\n",
      "error 41200\n"
     ]
    }
   ],
   "source": [
    "# get all researchers with evaluation\n",
    "researchers = []\n",
    "for i in range(len(res)):\n",
    "    try:\n",
    "        url = \"https://cris.cobiss.net/ecris/si/sl/service/researcher/\" + str(res[i][\"id\"])\n",
    "        headers = {'Authorization': token}\n",
    "        r = requests.get(url, headers=headers)\n",
    "        resID = json.loads(r.text)\n",
    "        if \"evaluation\" in resID.keys():\n",
    "            researchers.append(resID)\n",
    "    except:\n",
    "        print(\"error\",i)\n",
    "        time.sleep(1)\n",
    "        continue"
   ]
  },
  {
   "cell_type": "code",
   "execution_count": 32,
   "id": "d157205e",
   "metadata": {},
   "outputs": [],
   "source": [
    "np.save(\"sicris_researchers_april_2025.npy\",researchers)"
   ]
  },
  {
   "cell_type": "code",
   "execution_count": null,
   "id": "bfcfdffc",
   "metadata": {},
   "outputs": [],
   "source": []
  }
 ],
 "metadata": {
  "kernelspec": {
   "display_name": "Python 3",
   "language": "python",
   "name": "python3"
  },
  "language_info": {
   "codemirror_mode": {
    "name": "ipython",
    "version": 3
   },
   "file_extension": ".py",
   "mimetype": "text/x-python",
   "name": "python",
   "nbconvert_exporter": "python",
   "pygments_lexer": "ipython3",
   "version": "3.12.4"
  }
 },
 "nbformat": 4,
 "nbformat_minor": 5
}
